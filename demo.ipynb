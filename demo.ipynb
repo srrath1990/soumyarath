{
 "cells": [
  {
   "metadata": {
    "jupyter": {
     "is_executing": true
    }
   },
   "cell_type": "code",
   "source": [
    "text = \"Hello, how are you?\"\n",
    "volels=\"aeiouAEIOU\"\n",
    "volelscount=0\n",
    "\n",
    "for char in text:\n",
    "    if char in volels:\n",
    "        volelscount +=1\n",
    "\n",
    "print(\"no of vowels\", volelscount)"
   ],
   "id": "6f90e2eb3541ad53",
   "outputs": [],
   "execution_count": null
  },
  {
   "metadata": {},
   "cell_type": "code",
   "outputs": [],
   "execution_count": null,
   "source": "",
   "id": "7e53fa8ca162d6db"
  }
 ],
 "metadata": {},
 "nbformat": 4,
 "nbformat_minor": 5
}
